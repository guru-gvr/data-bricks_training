{
 "cells": [
  {
   "cell_type": "code",
   "execution_count": 0,
   "metadata": {
    "application/vnd.databricks.v1+cell": {
     "cellMetadata": {
      "byteLimit": 2048000,
      "rowLimit": 10000
     },
     "inputWidgets": {},
     "nuid": "53f949df-1269-4843-88fa-5ee0a926653c",
     "showTitle": false,
     "tableResultSettingsMap": {},
     "title": ""
    }
   },
   "outputs": [],
   "source": [
    "from pyspark.sql.functions import *\n",
    "from pyspark.sql.types import StructType\n"
   ]
  },
  {
   "cell_type": "code",
   "execution_count": 0,
   "metadata": {
    "application/vnd.databricks.v1+cell": {
     "cellMetadata": {
      "byteLimit": 2048000,
      "rowLimit": 10000
     },
     "inputWidgets": {},
     "nuid": "0a78d944-b03f-478e-a76f-1caab3ee07ea",
     "showTitle": false,
     "tableResultSettingsMap": {},
     "title": ""
    }
   },
   "outputs": [],
   "source": [
    "from pyspark.sql.types import StructType\n",
    "\n",
    "from pyspark.sql.functions import *\n",
    "\n",
    "df = spark.read.json('/Volumes/jpmc/naval/raw/1.json')\n",
    "# Function to flatten the DataFrame\n",
    "def flatten_df(nested_df):\n",
    "\n",
    "    flat_cols = [col for col in nested_df.columns if not isinstance(nested_df.schema[col].dataType, StructType)]\n",
    "    nested_cols = [col for col in nested_df.columns if isinstance(nested_df.schema[col].dataType, StructType)]\n",
    "\n",
    "    flat_df = nested_df.select(flat_cols + [col(nested_col + '.' + field.name).alias(nested_col + '_' + field.name)\n",
    "                                            for nested_col in nested_cols\n",
    "                                            for field in nested_df.schema[nested_col].dataType.fields])\n",
    "    return flat_df\n",
    "\n",
    "# Flatten the DataFrame\n",
    "flattened_df = flatten_df(df)\n",
    "flattened_df.na.drop()\n",
    "# Show the flattened DataFrame\n",
    "flattened_df.show()\n",
    "flattened_df.write.mode(\"overwrite\").saveAsTable(\"jpmc.guru.patients_data\")\n"
   ]
  }
 ],
 "metadata": {
  "application/vnd.databricks.v1+notebook": {
   "computePreferences": null,
   "dashboards": [],
   "environmentMetadata": {
    "base_environment": "",
    "environment_version": "2"
   },
   "inputWidgetPreferences": null,
   "language": "python",
   "notebookMetadata": {
    "pythonIndentUnit": 4
   },
   "notebookName": "ETL for JSON",
   "widgets": {}
  },
  "language_info": {
   "name": "python"
  }
 },
 "nbformat": 4,
 "nbformat_minor": 0
}
