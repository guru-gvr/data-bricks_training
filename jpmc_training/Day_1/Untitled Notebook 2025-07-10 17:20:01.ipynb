{
 "cells": [
  {
   "cell_type": "code",
   "execution_count": 0,
   "metadata": {
    "application/vnd.databricks.v1+cell": {
     "cellMetadata": {},
     "inputWidgets": {},
     "nuid": "4a773969-b83a-4c3b-88b1-e07b90155fe1",
     "showTitle": false,
     "tableResultSettingsMap": {},
     "title": ""
    }
   },
   "outputs": [],
   "source": [
    "# Define the path to the volume\n",
    "volume_path = \"/Volumes/jpmc/guru/raw/\"\n",
    "# List files in the volume\n",
    "def list_files_in_volume(path):\n",
    "    try:\n",
    "        files = dbutils.fs.ls(path)\n",
    "        for file in files:\n",
    "            print(f\"File Name: {file.name}\")\n",
    "            \n",
    "    except Exception as e:\n",
    "        print(f\"Error accessing volume: {e}\")\n",
    "\n",
    "# Call the function to list files\n",
    "list_files_in_volume(volume_path)"
   ]
  }
 ],
 "metadata": {
  "application/vnd.databricks.v1+notebook": {
   "computePreferences": null,
   "dashboards": [],
   "environmentMetadata": {
    "base_environment": "",
    "environment_version": "2"
   },
   "inputWidgetPreferences": null,
   "language": "python",
   "notebookMetadata": {
    "pythonIndentUnit": 4
   },
   "notebookName": "Untitled Notebook 2025-07-10 17:20:01",
   "widgets": {}
  },
  "language_info": {
   "name": "python"
  }
 },
 "nbformat": 4,
 "nbformat_minor": 0
}
